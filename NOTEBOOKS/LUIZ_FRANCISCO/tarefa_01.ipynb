import statistics

valores = [4, 6, 3, 4, 5, 8, 4, 2]
orderedValues = sorted(valores)
maxValue = valores[0]
minValue = valores[0]
arithmeticMedia = 0.0
total = 0
mediana = 0
defaultDeviation = statistics.stdev(valores)

for valor in valores:
  if valor > maxValue:
      maxValue = valor
  if valor < minValue:
      minValue = valor
  total += valor

arithmeticMedia = total / len(valores)
mediana = statistics.median(orderedValues)

print("Valor Máximo: ",maxValue)
print("Valor Mínimo: ",minValue)
print("Média aritmética: ",arithmeticMedia)
print("Mediana: ",mediana)
print("Desvio Padrão: ", defaultDeviation)
